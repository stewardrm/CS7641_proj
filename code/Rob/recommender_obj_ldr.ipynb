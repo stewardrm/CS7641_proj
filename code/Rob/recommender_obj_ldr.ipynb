{
 "cells": [
  {
   "cell_type": "code",
   "execution_count": 2,
   "id": "0df90a2a-51d1-4f8c-9fff-c2b2cead1241",
   "metadata": {},
   "outputs": [],
   "source": [
    "#movie_lens_data_class is the same file content as the recommender class, but the way I saved\n",
    "#the pkl file requires you use this name.\n",
    "\n",
    "#Note the get_recommendations_by_title worked on my local PC, but get_recommendations_by_keyword_bert_tfidf required me to use\n",
    "#google's colab\n",
    "\n",
    "#To download the obj file \"recommender_obj.pk\" go to https://drive.google.com/drive/folders/1URg0iNq_DcNLL5FBaTvyn573lJfI1wsH?usp=share_link\n",
    "#put the file in the same path where you are running the recommender.py\n",
    "\n",
    "from movie_lens_data_class import movie_lens_data\n",
    "# Save the recommender object\n",
    "import pickle"
   ]
  },
  {
   "cell_type": "code",
   "execution_count": 2,
   "id": "a6ee9322-70b9-4153-a2bd-3e9ac4960efa",
   "metadata": {},
   "outputs": [
    {
     "name": "stderr",
     "output_type": "stream",
     "text": [
      "C:\\Users\\rober\\anaconda3\\lib\\site-packages\\sklearn\\base.py:329: UserWarning: Trying to unpickle estimator TfidfTransformer from version 1.2.2 when using version 1.0.2. This might lead to breaking code or invalid results. Use at your own risk. For more info please refer to:\n",
      "https://scikit-learn.org/stable/modules/model_persistence.html#security-maintainability-limitations\n",
      "  warnings.warn(\n",
      "C:\\Users\\rober\\anaconda3\\lib\\site-packages\\sklearn\\base.py:329: UserWarning: Trying to unpickle estimator TfidfVectorizer from version 1.2.2 when using version 1.0.2. This might lead to breaking code or invalid results. Use at your own risk. For more info please refer to:\n",
      "https://scikit-learn.org/stable/modules/model_persistence.html#security-maintainability-limitations\n",
      "  warnings.warn(\n"
     ]
    }
   ],
   "source": [
    "from movie_lens_data_class import movie_lens_data\n",
    "import pickle\n",
    "with open('recommender_obj.pkl', 'rb') as f:\n",
    "    recommender = pickle.load(f)"
   ]
  },
  {
   "cell_type": "code",
   "execution_count": 3,
   "id": "dbcde815-1f9e-4232-99b1-b202b4f2c64f",
   "metadata": {},
   "outputs": [
    {
     "name": "stdout",
     "output_type": "stream",
     "text": [
      "['Monster House (2006)', 'Day & Night (2010)', 'Darkness/Light/Darkness (Tma/Svetlo/Tma) (1989)', 'E=mc2 (2002)', 'Samson & Sally (1984)']\n"
     ]
    }
   ],
   "source": [
    "recommendations = recommender.get_recommendations_by_title('Toy Story (1995)')\n",
    "print(recommendations)\n",
    "user_keywords = \"Adam Sandler Comedy\"\n",
    "\n",
    "#recommendations = recommender.get_recommendations_by_keyword_bert_tfidf(user_keywords, num_recommendations=5, bert_weight=.5, tfidf_weight=.5,w_ratings=True)\n",
    "#print(recommendations)\n",
    "\n",
    "#recommendations = recommender.get_recommendations_by_keyword_bert_tfidf(user_keywords, num_recommendations=5, bert_weight=.5, tfidf_weight=.5,w_ratings=False)\n",
    "#print(recommendations)"
   ]
  },
  {
   "cell_type": "code",
   "execution_count": null,
   "id": "61aa4658-91e2-40b2-bf6b-09a7a0ee8b0b",
   "metadata": {},
   "outputs": [],
   "source": []
  }
 ],
 "metadata": {
  "kernelspec": {
   "display_name": "Python 3 (ipykernel)",
   "language": "python",
   "name": "python3"
  },
  "language_info": {
   "codemirror_mode": {
    "name": "ipython",
    "version": 3
   },
   "file_extension": ".py",
   "mimetype": "text/x-python",
   "name": "python",
   "nbconvert_exporter": "python",
   "pygments_lexer": "ipython3",
   "version": "3.9.12"
  }
 },
 "nbformat": 4,
 "nbformat_minor": 5
}
