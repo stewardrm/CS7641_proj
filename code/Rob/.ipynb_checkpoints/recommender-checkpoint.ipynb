{
 "cells": [
  {
   "cell_type": "code",
   "execution_count": null,
   "id": "fb4f1fab-21fe-4afd-912d-1356992c8d7a",
   "metadata": {},
   "outputs": [
    {
     "name": "stderr",
     "output_type": "stream",
     "text": [
      "Some weights of the model checkpoint at bert-base-uncased were not used when initializing BertModel: ['cls.seq_relationship.bias', 'cls.predictions.decoder.weight', 'cls.predictions.transform.LayerNorm.weight', 'cls.predictions.transform.LayerNorm.bias', 'cls.predictions.bias', 'cls.predictions.transform.dense.bias', 'cls.predictions.transform.dense.weight', 'cls.seq_relationship.weight']\n",
      "- This IS expected if you are initializing BertModel from the checkpoint of a model trained on another task or with another architecture (e.g. initializing a BertForSequenceClassification model from a BertForPreTraining model).\n",
      "- This IS NOT expected if you are initializing BertModel from the checkpoint of a model that you expect to be exactly identical (initializing a BertForSequenceClassification model from a BertForSequenceClassification model).\n",
      "C:\\Users\\rober\\Dropbox\\GeorgiaTech\\CS7643_DeepLearning\\group_project\\CS7643_proj\\CS7643_proj\\code\\Rob\\recommender.py:43: FutureWarning: The default value of regex will change from True to False in a future version. In addition, single character regular expressions will *not* be treated as literal strings when regex=True.\n",
      "  generes=generes.str.replace('|',' ')  #removing the \"|\" seperator\n"
     ]
    }
   ],
   "source": [
    "#need to pip install transformers\n",
    "#import torch\n",
    "#import loader\n",
    "#import bert_encoder\n",
    "import recommender\n",
    "f1='ml-20m//movies.csv'\n",
    "f2='ml-20m//ratings.csv'\n",
    "f3='ml-20m//genome-scores.csv'\n",
    "f4='ml-20m//genome-tags.csv'\n",
    "f5='ml-20m//tags.csv'\n",
    "data=recommender.movie_lens_data(f1,f2,f3,f4,f5, truncate=True)  #defaults to truncating movie data set. .movie_lens_data(f1,f2,f3,f4,f5,False) for entire data set  "
   ]
  },
  {
   "cell_type": "code",
   "execution_count": null,
   "id": "833be7f5-17cf-4e88-8618-d3f4b33f3eba",
   "metadata": {},
   "outputs": [],
   "source": [
    "data.bert_tokenize()"
   ]
  },
  {
   "cell_type": "code",
   "execution_count": null,
   "id": "d9ab90c3-bec1-4707-a9f1-a0b3edc880ea",
   "metadata": {},
   "outputs": [
    {
     "name": "stdout",
     "output_type": "stream",
     "text": [
      "['Balto (1995)', 'Jumanji (1995)', 'Tom and Huck (1995)', 'Kids of the Round Table (1995)', 'White Squall (1996)']\n"
     ]
    }
   ],
   "source": [
    "recommendations = data.get_recommendations_by_title('Toy Story (1995)')\n",
    "print(recommendations)"
   ]
  },
  {
   "cell_type": "code",
   "execution_count": 18,
   "id": "b1fa4937-ab2d-4ede-9c76-c54835b92c3c",
   "metadata": {},
   "outputs": [
    {
     "name": "stdout",
     "output_type": "stream",
     "text": [
      "['GoldenEye (1995)', 'Copycat (1995)', 'Dead Man Walking (1995)', 'Seven (a.k.a. Se7en) (1995)', 'From Dusk Till Dawn (1996)']\n",
      "['GoldenEye (1995)', 'Copycat (1995)', 'Dead Man Walking (1995)', 'Seven (a.k.a. Se7en) (1995)', 'From Dusk Till Dawn (1996)']\n"
     ]
    }
   ],
   "source": [
    "user_keywords = \"murder bloody\"\n",
    "\n",
    "\n",
    "recommendations = data.get_recommendations_by_keyword_bert_tfidf(user_keywords, num_recommendations=5, bert_weight=.5, tfidf_weight=.5)\n",
    "print(recommendations)\n",
    "\n",
    "recommendations = data.get_recommendations_by_keyword_bert_tfidf(user_keywords, num_recommendations=5, bert_weight=.5, tfidf_weight=.5, w_ratings=False)\n",
    "print(recommendations)"
   ]
  },
  {
   "cell_type": "markdown",
   "id": "c5fe4b1f-1dfe-4bcb-8799-2ce4fd2818df",
   "metadata": {
    "tags": []
   },
   "source": [
    "After the above is executed, the following data frames are available\n",
    "\n",
    "movie: contains 27278 unique movies with columns \"movieID, title, genres\"  (moviedID is unique for each row\n",
    "\n",
    "ratings: contain 20,000,262 ratings with columns \"userId movieId rating\" the ratings range from .5-5. Each userID/movieId is unique\n",
    "\n",
    "genome_scores: contain 11,709,767 unique rows with columns 'movieId, tagId, relevance'.  \"relevance\" represents the importance of the tag      to the movie, with higher scores indicating greater relevance.  movies with similar tag relevance scores may be more likely to be        recommended to a user who has rated one of those movies highly\n",
    "genome_tags: 1127 different types of tags placed on a movie columns \"tagId, tag\".  Each row is unique\n",
    "\n",
    "tags: 465,564 rows with columns \"userId, movieId, tag, timestamp\". The combination userId-movieId-tag is unique\n"
   ]
  },
  {
   "cell_type": "code",
   "execution_count": 3,
   "id": "6500ae9d-f7fe-4d75-9d13-f3c947db661b",
   "metadata": {},
   "outputs": [],
   "source": [
    " # get the top N tags with the highest relevance scores\n",
    "num_tags=10\n",
    "tag_scores = data.genome_scores.groupby('tagId').agg({'relevance': 'mean'})\n",
    "top_tags = tag_scores.sort_values('relevance', ascending=False)[:num_tags]"
   ]
  },
  {
   "cell_type": "code",
   "execution_count": 15,
   "id": "1becadb1-d226-4426-b559-fefc2ee6f72f",
   "metadata": {},
   "outputs": [
    {
     "data": {
      "text/html": [
       "<div>\n",
       "<style scoped>\n",
       "    .dataframe tbody tr th:only-of-type {\n",
       "        vertical-align: middle;\n",
       "    }\n",
       "\n",
       "    .dataframe tbody tr th {\n",
       "        vertical-align: top;\n",
       "    }\n",
       "\n",
       "    .dataframe thead th {\n",
       "        text-align: right;\n",
       "    }\n",
       "</style>\n",
       "<table border=\"1\" class=\"dataframe\">\n",
       "  <thead>\n",
       "    <tr style=\"text-align: right;\">\n",
       "      <th></th>\n",
       "      <th>movieId</th>\n",
       "      <th>title</th>\n",
       "      <th>genres</th>\n",
       "    </tr>\n",
       "  </thead>\n",
       "  <tbody>\n",
       "    <tr>\n",
       "      <th>0</th>\n",
       "      <td>1</td>\n",
       "      <td>Toy Story (1995)</td>\n",
       "      <td>Adventure|Animation|Children|Comedy|Fantasy</td>\n",
       "    </tr>\n",
       "    <tr>\n",
       "      <th>1</th>\n",
       "      <td>2</td>\n",
       "      <td>Jumanji (1995)</td>\n",
       "      <td>Adventure|Children|Fantasy</td>\n",
       "    </tr>\n",
       "    <tr>\n",
       "      <th>2</th>\n",
       "      <td>3</td>\n",
       "      <td>Grumpier Old Men (1995)</td>\n",
       "      <td>Comedy|Romance</td>\n",
       "    </tr>\n",
       "    <tr>\n",
       "      <th>3</th>\n",
       "      <td>4</td>\n",
       "      <td>Waiting to Exhale (1995)</td>\n",
       "      <td>Comedy|Drama|Romance</td>\n",
       "    </tr>\n",
       "    <tr>\n",
       "      <th>4</th>\n",
       "      <td>5</td>\n",
       "      <td>Father of the Bride Part II (1995)</td>\n",
       "      <td>Comedy</td>\n",
       "    </tr>\n",
       "    <tr>\n",
       "      <th>...</th>\n",
       "      <td>...</td>\n",
       "      <td>...</td>\n",
       "      <td>...</td>\n",
       "    </tr>\n",
       "    <tr>\n",
       "      <th>95</th>\n",
       "      <td>97</td>\n",
       "      <td>Hate (Haine, La) (1995)</td>\n",
       "      <td>Crime|Drama</td>\n",
       "    </tr>\n",
       "    <tr>\n",
       "      <th>96</th>\n",
       "      <td>98</td>\n",
       "      <td>Shopping (1994)</td>\n",
       "      <td>Action|Thriller</td>\n",
       "    </tr>\n",
       "    <tr>\n",
       "      <th>97</th>\n",
       "      <td>99</td>\n",
       "      <td>Heidi Fleiss: Hollywood Madam (1995)</td>\n",
       "      <td>Documentary</td>\n",
       "    </tr>\n",
       "    <tr>\n",
       "      <th>98</th>\n",
       "      <td>100</td>\n",
       "      <td>City Hall (1996)</td>\n",
       "      <td>Drama|Thriller</td>\n",
       "    </tr>\n",
       "    <tr>\n",
       "      <th>99</th>\n",
       "      <td>101</td>\n",
       "      <td>Bottle Rocket (1996)</td>\n",
       "      <td>Adventure|Comedy|Crime|Romance</td>\n",
       "    </tr>\n",
       "  </tbody>\n",
       "</table>\n",
       "<p>100 rows × 3 columns</p>\n",
       "</div>"
      ],
      "text/plain": [
       "    movieId                                 title  \\\n",
       "0         1                      Toy Story (1995)   \n",
       "1         2                        Jumanji (1995)   \n",
       "2         3               Grumpier Old Men (1995)   \n",
       "3         4              Waiting to Exhale (1995)   \n",
       "4         5    Father of the Bride Part II (1995)   \n",
       "..      ...                                   ...   \n",
       "95       97               Hate (Haine, La) (1995)   \n",
       "96       98                       Shopping (1994)   \n",
       "97       99  Heidi Fleiss: Hollywood Madam (1995)   \n",
       "98      100                      City Hall (1996)   \n",
       "99      101                  Bottle Rocket (1996)   \n",
       "\n",
       "                                         genres  \n",
       "0   Adventure|Animation|Children|Comedy|Fantasy  \n",
       "1                    Adventure|Children|Fantasy  \n",
       "2                                Comedy|Romance  \n",
       "3                          Comedy|Drama|Romance  \n",
       "4                                        Comedy  \n",
       "..                                          ...  \n",
       "95                                  Crime|Drama  \n",
       "96                              Action|Thriller  \n",
       "97                                  Documentary  \n",
       "98                               Drama|Thriller  \n",
       "99               Adventure|Comedy|Crime|Romance  \n",
       "\n",
       "[100 rows x 3 columns]"
      ]
     },
     "execution_count": 15,
     "metadata": {},
     "output_type": "execute_result"
    }
   ],
   "source": [
    "data.movies\n"
   ]
  },
  {
   "cell_type": "code",
   "execution_count": 18,
   "id": "706ae5dd-8204-43d7-b362-6134d9cc931a",
   "metadata": {},
   "outputs": [],
   "source": [
    "\n"
   ]
  },
  {
   "cell_type": "code",
   "execution_count": 2,
   "id": "3c9dd1c3-1d53-4178-94be-7f9f7f50bcf1",
   "metadata": {},
   "outputs": [
    {
     "data": {
      "text/html": [
       "<div>\n",
       "<style scoped>\n",
       "    .dataframe tbody tr th:only-of-type {\n",
       "        vertical-align: middle;\n",
       "    }\n",
       "\n",
       "    .dataframe tbody tr th {\n",
       "        vertical-align: top;\n",
       "    }\n",
       "\n",
       "    .dataframe thead th {\n",
       "        text-align: right;\n",
       "    }\n",
       "</style>\n",
       "<table border=\"1\" class=\"dataframe\">\n",
       "  <thead>\n",
       "    <tr style=\"text-align: right;\">\n",
       "      <th></th>\n",
       "      <th>movieId</th>\n",
       "      <th>title</th>\n",
       "      <th>genres</th>\n",
       "    </tr>\n",
       "  </thead>\n",
       "  <tbody>\n",
       "    <tr>\n",
       "      <th>0</th>\n",
       "      <td>1</td>\n",
       "      <td>Toy Story (1995)</td>\n",
       "      <td>Adventure|Animation|Children|Comedy|Fantasy</td>\n",
       "    </tr>\n",
       "    <tr>\n",
       "      <th>1</th>\n",
       "      <td>2</td>\n",
       "      <td>Jumanji (1995)</td>\n",
       "      <td>Adventure|Children|Fantasy</td>\n",
       "    </tr>\n",
       "    <tr>\n",
       "      <th>2</th>\n",
       "      <td>3</td>\n",
       "      <td>Grumpier Old Men (1995)</td>\n",
       "      <td>Comedy|Romance</td>\n",
       "    </tr>\n",
       "    <tr>\n",
       "      <th>3</th>\n",
       "      <td>4</td>\n",
       "      <td>Waiting to Exhale (1995)</td>\n",
       "      <td>Comedy|Drama|Romance</td>\n",
       "    </tr>\n",
       "    <tr>\n",
       "      <th>4</th>\n",
       "      <td>5</td>\n",
       "      <td>Father of the Bride Part II (1995)</td>\n",
       "      <td>Comedy</td>\n",
       "    </tr>\n",
       "    <tr>\n",
       "      <th>...</th>\n",
       "      <td>...</td>\n",
       "      <td>...</td>\n",
       "      <td>...</td>\n",
       "    </tr>\n",
       "    <tr>\n",
       "      <th>95</th>\n",
       "      <td>97</td>\n",
       "      <td>Hate (Haine, La) (1995)</td>\n",
       "      <td>Crime|Drama</td>\n",
       "    </tr>\n",
       "    <tr>\n",
       "      <th>96</th>\n",
       "      <td>98</td>\n",
       "      <td>Shopping (1994)</td>\n",
       "      <td>Action|Thriller</td>\n",
       "    </tr>\n",
       "    <tr>\n",
       "      <th>97</th>\n",
       "      <td>99</td>\n",
       "      <td>Heidi Fleiss: Hollywood Madam (1995)</td>\n",
       "      <td>Documentary</td>\n",
       "    </tr>\n",
       "    <tr>\n",
       "      <th>98</th>\n",
       "      <td>100</td>\n",
       "      <td>City Hall (1996)</td>\n",
       "      <td>Drama|Thriller</td>\n",
       "    </tr>\n",
       "    <tr>\n",
       "      <th>99</th>\n",
       "      <td>101</td>\n",
       "      <td>Bottle Rocket (1996)</td>\n",
       "      <td>Adventure|Comedy|Crime|Romance</td>\n",
       "    </tr>\n",
       "  </tbody>\n",
       "</table>\n",
       "<p>100 rows × 3 columns</p>\n",
       "</div>"
      ],
      "text/plain": [
       "    movieId                                 title  \\\n",
       "0         1                      Toy Story (1995)   \n",
       "1         2                        Jumanji (1995)   \n",
       "2         3               Grumpier Old Men (1995)   \n",
       "3         4              Waiting to Exhale (1995)   \n",
       "4         5    Father of the Bride Part II (1995)   \n",
       "..      ...                                   ...   \n",
       "95       97               Hate (Haine, La) (1995)   \n",
       "96       98                       Shopping (1994)   \n",
       "97       99  Heidi Fleiss: Hollywood Madam (1995)   \n",
       "98      100                      City Hall (1996)   \n",
       "99      101                  Bottle Rocket (1996)   \n",
       "\n",
       "                                         genres  \n",
       "0   Adventure|Animation|Children|Comedy|Fantasy  \n",
       "1                    Adventure|Children|Fantasy  \n",
       "2                                Comedy|Romance  \n",
       "3                          Comedy|Drama|Romance  \n",
       "4                                        Comedy  \n",
       "..                                          ...  \n",
       "95                                  Crime|Drama  \n",
       "96                              Action|Thriller  \n",
       "97                                  Documentary  \n",
       "98                               Drama|Thriller  \n",
       "99               Adventure|Comedy|Crime|Romance  \n",
       "\n",
       "[100 rows x 3 columns]"
      ]
     },
     "execution_count": 2,
     "metadata": {},
     "output_type": "execute_result"
    }
   ],
   "source": []
  },
  {
   "cell_type": "code",
   "execution_count": 3,
   "id": "bfb125b2-53fb-40ff-9d28-aeb13c109021",
   "metadata": {},
   "outputs": [
    {
     "name": "stdout",
     "output_type": "stream",
     "text": [
      "['Comedy', 'Drama', 'Romance']\n"
     ]
    }
   ],
   "source": [
    "#a movie can have multiple genres.  To put the genres of the 10 movie in the data frame in a list do this\n",
    "genres = data.movies.loc[10, 'genres']\n",
    "print(genres.split(\"|\"))"
   ]
  },
  {
   "cell_type": "code",
   "execution_count": null,
   "id": "c7818efa-3559-4aa7-8568-f0752a69f28d",
   "metadata": {},
   "outputs": [],
   "source": []
  },
  {
   "cell_type": "markdown",
   "id": "a1faa540-bcc0-42f1-90c1-63e3088e1c48",
   "metadata": {},
   "source": [
    "Now encode data using the bert encoder. initialize the bert_encoder with a dataframe and then the column of the data frame you want to tokenize.\n",
    "The bert_tokenize method is just using the movies data frame.  It concatenates the movie name and genres for the embeddings.\n",
    "None of the other csv's are being used."
   ]
  },
  {
   "cell_type": "code",
   "execution_count": 4,
   "id": "0515db63-0c13-4f5a-a33f-d100322d3397",
   "metadata": {},
   "outputs": [],
   "source": [
    "data.bert_tokenize()  #optional parameter batch_size default is 32"
   ]
  },
  {
   "cell_type": "code",
   "execution_count": 5,
   "id": "d7da9362-118c-408f-a70c-a56bf8c3f246",
   "metadata": {},
   "outputs": [],
   "source": [
    "selected_title = 'Grumpier Old Men (1995)'   #selected title must be of this specific format\n",
    "suggestions = data.get_recommendations(selected_title)"
   ]
  },
  {
   "cell_type": "code",
   "execution_count": 6,
   "id": "7cc9fd5a-e295-451b-9f89-4ef10898f183",
   "metadata": {},
   "outputs": [
    {
     "data": {
      "text/plain": [
       "['Angels and Insects (1995)',\n",
       " 'Bed of Roses (1996)',\n",
       " 'Sense and Sensibility (1995)',\n",
       " 'Two if by Sea (1996)',\n",
       " 'Beautiful Girls (1996)']"
      ]
     },
     "execution_count": 6,
     "metadata": {},
     "output_type": "execute_result"
    }
   ],
   "source": [
    "suggestions"
   ]
  },
  {
   "cell_type": "code",
   "execution_count": 7,
   "id": "7f517d1f-8577-4574-ad4c-fea32535d443",
   "metadata": {},
   "outputs": [
    {
     "name": "stdout",
     "output_type": "stream",
     "text": [
      "   movieId                    title          genres\n",
      "2        3  Grumpier Old Men (1995)  Comedy|Romance\n",
      "    movieId                      title         genres\n",
      "84       85  Angels and Insects (1995)  Drama|Romance\n",
      "    movieId                title         genres\n",
      "73       74  Bed of Roses (1996)  Drama|Romance\n",
      "    movieId                         title         genres\n",
      "16       17  Sense and Sensibility (1995)  Drama|Romance\n",
      "    movieId                 title          genres\n",
      "63       64  Two if by Sea (1996)  Comedy|Romance\n",
      "    movieId                   title                genres\n",
      "92       94  Beautiful Girls (1996)  Comedy|Drama|Romance\n"
     ]
    }
   ],
   "source": [
    "print(data.movies[data.movies['title'] == selected_title])\n",
    "print(data.movies[data.movies['title'] == suggestions[0]])\n",
    "print(data.movies[data.movies['title'] == suggestions[1]])\n",
    "print(data.movies[data.movies['title'] == suggestions[2]])\n",
    "print(data.movies[data.movies['title'] == suggestions[3]])\n",
    "print(data.movies[data.movies['title'] == suggestions[4]])"
   ]
  },
  {
   "cell_type": "code",
   "execution_count": null,
   "id": "da72ae06-6c95-4bf7-ab59-c5a7859de0df",
   "metadata": {},
   "outputs": [],
   "source": []
  }
 ],
 "metadata": {
  "kernelspec": {
   "display_name": "Python 3 (ipykernel)",
   "language": "python",
   "name": "python3"
  },
  "language_info": {
   "codemirror_mode": {
    "name": "ipython",
    "version": 3
   },
   "file_extension": ".py",
   "mimetype": "text/x-python",
   "name": "python",
   "nbconvert_exporter": "python",
   "pygments_lexer": "ipython3",
   "version": "3.9.12"
  }
 },
 "nbformat": 4,
 "nbformat_minor": 5
}
