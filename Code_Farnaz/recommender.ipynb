{
 "cells": [
  {
   "cell_type": "code",
   "execution_count": 1,
   "id": "fb4f1fab-21fe-4afd-912d-1356992c8d7a",
   "metadata": {},
   "outputs": [
    {
     "name": "stderr",
     "output_type": "stream",
     "text": [
      "Some weights of the model checkpoint at bert-base-uncased were not used when initializing BertModel: ['cls.predictions.transform.dense.weight', 'cls.seq_relationship.bias', 'cls.predictions.transform.LayerNorm.bias', 'cls.predictions.transform.dense.bias', 'cls.predictions.transform.LayerNorm.weight', 'cls.predictions.bias', 'cls.predictions.decoder.weight', 'cls.seq_relationship.weight']\n",
      "- This IS expected if you are initializing BertModel from the checkpoint of a model trained on another task or with another architecture (e.g. initializing a BertForSequenceClassification model from a BertForPreTraining model).\n",
      "- This IS NOT expected if you are initializing BertModel from the checkpoint of a model that you expect to be exactly identical (initializing a BertForSequenceClassification model from a BertForSequenceClassification model).\n",
      "C:\\Users\\Owner\\Downloads\\Rob\\recommender.py:43: FutureWarning: The default value of regex will change from True to False in a future version. In addition, single character regular expressions will *not* be treated as literal strings when regex=True.\n",
      "  generes=generes.str.replace('|',' ')  #removing the \"|\" seperator\n"
     ]
    }
   ],
   "source": [
    "#need to pip install transformers\n",
    "#import torch\n",
    "#import loader\n",
    "#import bert_encoder\n",
    "import recommender\n",
    "f1='ml-20m//movies.csv'\n",
    "f2='ml-20m//ratings.csv'\n",
    "f3='ml-20m//genome-scores.csv'\n",
    "f4='ml-20m//genome-tags.csv'\n",
    "f5='ml-20m//tags.csv'\n",
    "data=recommender.movie_lens_data(f1,f2,f3,f4,f5, truncate=False)  #defaults to truncating movie data set. .movie_lens_data(f1,f2,f3,f4,f5,False) for entire data set  "
   ]
  },
  {
   "cell_type": "code",
   "execution_count": null,
   "id": "833be7f5-17cf-4e88-8618-d3f4b33f3eba",
   "metadata": {},
   "outputs": [],
   "source": [
    "data.bert_tokenize()"
   ]
  },
  {
   "cell_type": "code",
   "execution_count": null,
   "id": "d9ab90c3-bec1-4707-a9f1-a0b3edc880ea",
   "metadata": {},
   "outputs": [],
   "source": [
    "recommendations = data.get_recommendations_by_title('Toy Story (1995)')\n",
    "print(recommendations)"
   ]
  },
  {
   "cell_type": "code",
   "execution_count": null,
   "id": "b1fa4937-ab2d-4ede-9c76-c54835b92c3c",
   "metadata": {},
   "outputs": [],
   "source": [
    "user_keywords = \"murder bloody\"\n",
    "\n",
    "\n",
    "recommendations = data.get_recommendations_by_keyword_bert_tfidf(user_keywords, num_recommendations=5, bert_weight=.5, tfidf_weight=.5)\n",
    "print(recommendations)\n",
    "\n",
    "recommendations = data.get_recommendations_by_keyword_bert_tfidf(user_keywords, num_recommendations=5, bert_weight=.5, tfidf_weight=.5, w_ratings=False)\n",
    "print(recommendations)"
   ]
  },
  {
   "cell_type": "markdown",
   "id": "c5fe4b1f-1dfe-4bcb-8799-2ce4fd2818df",
   "metadata": {
    "tags": []
   },
   "source": [
    "After the above is executed, the following data frames are available\n",
    "\n",
    "movie: contains 27278 unique movies with columns \"movieID, title, genres\"  (moviedID is unique for each row\n",
    "\n",
    "ratings: contain 20,000,262 ratings with columns \"userId movieId rating\" the ratings range from .5-5. Each userID/movieId is unique\n",
    "\n",
    "genome_scores: contain 11,709,767 unique rows with columns 'movieId, tagId, relevance'.  \"relevance\" represents the importance of the tag      to the movie, with higher scores indicating greater relevance.  movies with similar tag relevance scores may be more likely to be        recommended to a user who has rated one of those movies highly\n",
    "genome_tags: 1127 different types of tags placed on a movie columns \"tagId, tag\".  Each row is unique\n",
    "\n",
    "tags: 465,564 rows with columns \"userId, movieId, tag, timestamp\". The combination userId-movieId-tag is unique\n"
   ]
  },
  {
   "cell_type": "code",
   "execution_count": null,
   "id": "6500ae9d-f7fe-4d75-9d13-f3c947db661b",
   "metadata": {},
   "outputs": [],
   "source": [
    " # get the top N tags with the highest relevance scores\n",
    "num_tags=10\n",
    "tag_scores = data.genome_scores.groupby('tagId').agg({'relevance': 'mean'})\n",
    "top_tags = tag_scores.sort_values('relevance', ascending=False)[:num_tags]"
   ]
  },
  {
   "cell_type": "code",
   "execution_count": null,
   "id": "1becadb1-d226-4426-b559-fefc2ee6f72f",
   "metadata": {},
   "outputs": [],
   "source": [
    "data.movies\n"
   ]
  },
  {
   "cell_type": "code",
   "execution_count": null,
   "id": "bfb125b2-53fb-40ff-9d28-aeb13c109021",
   "metadata": {},
   "outputs": [],
   "source": [
    "#a movie can have multiple genres.  To put the genres of the 10 movie in the data frame in a list do this\n",
    "genres = data.movies.loc[10, 'genres']\n",
    "print(genres.split(\"|\"))"
   ]
  },
  {
   "cell_type": "markdown",
   "id": "a1faa540-bcc0-42f1-90c1-63e3088e1c48",
   "metadata": {},
   "source": [
    "Now encode data using the bert encoder. initialize the bert_encoder with a dataframe and then the column of the data frame you want to tokenize.\n",
    "The bert_tokenize method is just using the movies data frame.  It concatenates the movie name and genres for the embeddings.\n",
    "None of the other csv's are being used."
   ]
  },
  {
   "cell_type": "raw",
   "id": "77cb0a4a",
   "metadata": {},
   "source": [
    "data.bert_tokenize()  #optional parameter batch_size default is 32"
   ]
  },
  {
   "cell_type": "code",
   "execution_count": null,
   "id": "d7da9362-118c-408f-a70c-a56bf8c3f246",
   "metadata": {},
   "outputs": [],
   "source": [
    "selected_title = 'Guardian Angel (1994)'   #selected title must be of this specific format\n",
    "suggestions = data.get_recommendations_by_title(selected_title)"
   ]
  },
  {
   "cell_type": "code",
   "execution_count": null,
   "id": "7cc9fd5a-e295-451b-9f89-4ef10898f183",
   "metadata": {},
   "outputs": [],
   "source": [
    "suggestions"
   ]
  },
  {
   "cell_type": "raw",
   "id": "3898714f",
   "metadata": {},
   "source": [
    "print(data.movies[data.movies['title'] == selected_title])\n",
    "print(data.movies[data.movies['title'] == suggestions[0]])\n",
    "print(data.movies[data.movies['title'] == suggestions[1]])\n",
    "print(data.movies[data.movies['title'] == suggestions[2]])\n",
    "print(data.movies[data.movies['title'] == suggestions[3]])\n",
    "print(data.movies[data.movies['title'] == suggestions[4]])"
   ]
  },
  {
   "cell_type": "code",
   "execution_count": null,
   "id": "5596b6cd",
   "metadata": {},
   "outputs": [],
   "source": [
    "#import warnings\n",
    "#warnings.filterwarnings(\"ignore\", category=UserWarning)\n",
    "#movie_list=data.movies['title'][:100].to_list()\n",
    "import random\n",
    "random.seed(42)\n",
    "movie_list=random.sample(set(data.movies['title']), 350)\n",
    "#movie_list = data.movies['title'].sample(n=350).tolist()\n",
    "\n",
    "prec_list=[]\n",
    "prec_avg=[]\n",
    "epo=[]\n",
    "epoch=0\n",
    "for m in movie_list:\n",
    "    print(m)\n",
    "    epoch+=1\n",
    "    suggestions = data.get_recommendations_by_title(m, num_recommendations=5)\n",
    "    \n",
    "    precision=data.get_evaluation_title(m, suggestions)\n",
    "    #if precision!=0:\n",
    "    prec_list.append(precision)\n",
    "    precision_avg=sum(prec_list)/len(prec_list)\n",
    "    prec_avg.append(precision_avg)\n",
    "    epo.append(epoch)\n",
    "import matplotlib.pyplot as plt\n",
    "plt.plot(epo, prec_avg)\n",
    "plt.xlabel('Epoch')\n",
    "plt.ylabel('Avg_Precision')\n",
    "plt.show()"
   ]
  },
  {
   "cell_type": "code",
   "execution_count": null,
   "id": "694e4b3b",
   "metadata": {},
   "outputs": [],
   "source": [
    "keyword_list=[\"Good comedy movies with Saturday Night Live cast members\", \"Horror movies that are really scary\", \n",
    "              \"Heartwarming drama\", \"famous opening theme\", \"dialogue driven storyline\", \"criminal mastermind\",\n",
    "              \"dream sequence\", \"classic movies from the 90s\",  \"Steven Spielberg movies\", \"romantic comedies\", \"zombie movies\",\n",
    "              \"French movies\", \"movie with a car chase\", \"movie set in the future\", \"movie with a box office success\", \n",
    "              \"movie that was critically acclaimed\", \"movie that was a critical and commercial success\", \"movie that you can watch over and over again\",\n",
    "              \"movie with a happy ending\", \"movie with a lot of special effects\", \"good versus evil movie\", \"fictional biography\", \"movie based on short story\",\n",
    "              \"corruption\", \"movie with flashback\", \"alternate history\", \"black comedy\", \"movies set in New York\", \"Oscar-winning movies\", \n",
    "              \"movies with Hans Zimmer soundtracks\", \"Marvel movies\",  \"feel-good movies\", \"Meryl Streep movies\", \"Star Wars movies\", \"musical movies\",\n",
    "              \"movies set in space\", \"Cannes Film Festival winners\", \"movies with Tom Cruise\", \"murder bloody\", \"Animated movies\", \"Action-packed movies\",\n",
    "              \"Documentaries\", \"Best movies of all time\", \"Cult favorites\", \"Must-see movies\", \"Mystery movies\", \"Social issue movies\", \"Time travel movies\",\n",
    "              \"Dystopian movies\", \"Tearjerker movies\", \"Mystery movies\", \"Adrenaline-fueled movies\", \"Thought-provoking movies\", \"Visually stunning movies\",\n",
    "              \"Holiday movies\", \"Sports movies\", \"Spy movies\", \"Mind-bending movies\"]\n",
    "prec_list=[]\n",
    "prec_avg=[]\n",
    "epo=[]\n",
    "epoch=0\n",
    "for m in keyword_list:\n",
    "    print(m)\n",
    "    epoch+=1\n",
    "    suggestions = data.get_recommendations_by_keyword_bert_tfidf(m,num_recommendations=5,bert_weight=0.5,tfidf_weight=0.5,w_ratings=True)\n",
    "    \n",
    "    precision=data.get_evaluation_keyword(suggestions)\n",
    "    #if precision!=0:\n",
    "    prec_list.append(precision)\n",
    "    precision_avg=sum(prec_list)/len(prec_list)\n",
    "    prec_avg.append(precision_avg)\n",
    "    epo.append(epoch)\n",
    "import matplotlib.pyplot as plt\n",
    "plt.plot(epo, prec_avg)\n",
    "plt.xlabel('Epoch')\n",
    "plt.ylabel('Avg_Precision')\n",
    "plt.show()"
   ]
  }
 ],
 "metadata": {
  "kernelspec": {
   "display_name": "Python 3 (ipykernel)",
   "language": "python",
   "name": "python3"
  },
  "language_info": {
   "codemirror_mode": {
    "name": "ipython",
    "version": 3
   },
   "file_extension": ".py",
   "mimetype": "text/x-python",
   "name": "python",
   "nbconvert_exporter": "python",
   "pygments_lexer": "ipython3",
   "version": "3.7.15"
  }
 },
 "nbformat": 4,
 "nbformat_minor": 5
}
