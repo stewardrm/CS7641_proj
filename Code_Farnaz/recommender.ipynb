{
 "cells": [
  {
   "cell_type": "code",
   "execution_count": 4,
   "id": "fb4f1fab-21fe-4afd-912d-1356992c8d7a",
   "metadata": {},
   "outputs": [
    {
     "name": "stderr",
     "output_type": "stream",
     "text": [
      "C:\\Users\\rober\\Dropbox\\GeorgiaTech\\CS7643_DeepLearning\\group_project\\CS7643_proj\\CS7643_proj\\code\\Rob\\recommender.py:64: FutureWarning: The default value of regex will change from True to False in a future version. In addition, single character regular expressions will *not* be treated as literal strings when regex=True.\n",
      "  generes=generes.str.replace('|',' ')  #removing the \"|\" seperator\n",
      "Some weights of the model checkpoint at bert-base-uncased were not used when initializing BertModel: ['cls.predictions.transform.dense.weight', 'cls.predictions.transform.LayerNorm.bias', 'cls.predictions.transform.LayerNorm.weight', 'cls.predictions.transform.dense.bias', 'cls.predictions.bias', 'cls.predictions.decoder.weight', 'cls.seq_relationship.bias', 'cls.seq_relationship.weight']\n",
      "- This IS expected if you are initializing BertModel from the checkpoint of a model trained on another task or with another architecture (e.g. initializing a BertForSequenceClassification model from a BertForPreTraining model).\n",
      "- This IS NOT expected if you are initializing BertModel from the checkpoint of a model that you expect to be exactly identical (initializing a BertForSequenceClassification model from a BertForSequenceClassification model).\n",
      "C:\\Users\\rober\\Dropbox\\GeorgiaTech\\CS7643_DeepLearning\\group_project\\CS7643_proj\\CS7643_proj\\code\\Rob\\recommender.py:64: FutureWarning: The default value of regex will change from True to False in a future version. In addition, single character regular expressions will *not* be treated as literal strings when regex=True.\n",
      "  generes=generes.str.replace('|',' ')  #removing the \"|\" seperator\n"
     ]
    }
   ],
   "source": [
    "#need to pip install transformers\n",
    "#import torch\n",
    "#import loader\n",
    "#import bert_encoder\n",
    "import recommender\n",
    "f1='movies.csv'\n",
    "f2='ratings.csv'\n",
    "f3='genome-scores.csv'\n",
    "f4='genome-tags.csv'\n",
    "f5='tags.csv'\n",
    "data1=recommender.movie_lens_data(f1,f2,f3,f4,f5, truncate=False, model=1)  #model 1 is for the fine tuned small bert model.  model 2 is for the large un-finetuned model  \n",
    "data2=recommender.movie_lens_data(f1,f2,f3,f4,f5, truncate=False, model=2)  #defaults to truncating movie data set. .movie_lens_data(f1,f2,f3,f4,f5,False) for entire data set  "
   ]
  },
  {
   "cell_type": "code",
   "execution_count": 5,
   "id": "833be7f5-17cf-4e88-8618-d3f4b33f3eba",
   "metadata": {},
   "outputs": [
    {
     "name": "stderr",
     "output_type": "stream",
     "text": [
      "Asking to truncate to max_length but no maximum length is provided and the model has no predefined maximum length. Default to no truncation.\n"
     ]
    }
   ],
   "source": [
    "data1.bert_tokenize()\n",
    "data2.bert_tokenize()"
   ]
  },
  {
   "cell_type": "raw",
   "id": "63ce8c0f",
   "metadata": {},
   "source": [
    "recommendations = data1.get_recommendations_by_title('Toy Story (1995)')\n",
    "print(\"model 1:\",recommendations)\n",
    "print(\" \")\n",
    "#recommendations = data2.get_recommendations_by_title('Toy Story (1995)')\n",
    "#print(\"model 2:\",recommendations)"
   ]
  },
  {
   "cell_type": "raw",
   "id": "8c326863",
   "metadata": {},
   "source": [
    "user_keywords = \"Scary Zombie movie\"\n",
    "#keep in mind here model 2 only has 100 movie to select from (if you left truncated=true) whereas model 1 has 270000\n",
    "\n",
    "\n",
    "recommendations = data1.get_recommendations_by_keyword_bert_tfidf(user_keywords, num_recommendations=5, bert_weight=.5, tfidf_weight=.5, w_ratings=True)\n",
    "print(\"model 1 with rating weights:\",recommendations)\n",
    "print(\"\")\n",
    "recommendations = data1.get_recommendations_by_keyword_bert_tfidf(user_keywords, num_recommendations=5, bert_weight=.5, tfidf_weight=.5, w_ratings=False)\n",
    "print(\"model 1 without rating weights:\", recommendations)\n",
    "print(\"\")\n",
    "print(\"\")\n",
    "#recommendations = data2.get_recommendations_by_keyword_bert_tfidf(user_keywords, num_recommendations=5, bert_weight=.5, tfidf_weight=.5, w_ratings=True)\n",
    "#print(\"model 2 with rating weights:\",recommendations)\n",
    "#print(\"\")\n",
    "#recommendations = data2.get_recommendations_by_keyword_bert_tfidf(user_keywords, num_recommendations=5, bert_weight=.5, tfidf_weight=.5, w_ratings=False)\n",
    "#print(\"model 2 without rating weights:\",recommendations)"
   ]
  },
  {
   "cell_type": "code",
   "execution_count": null,
   "id": "5aad0195-afd9-49bd-bf9d-567b5543ec59",
   "metadata": {},
   "outputs": [],
   "source": []
  },
  {
   "cell_type": "code",
   "execution_count": null,
   "id": "37635e37-bc60-4b4f-b7bf-721b3f86848d",
   "metadata": {},
   "outputs": [],
   "source": []
  },
  {
   "cell_type": "code",
   "execution_count": null,
   "id": "8bc76017-45da-47ff-a40d-2476381980ad",
   "metadata": {},
   "outputs": [],
   "source": [
    "#Everything below is some of the initial data exploration of the data frames and testing the original recommender code.  Kept for info only."
   ]
  },
  {
   "cell_type": "markdown",
   "id": "c5fe4b1f-1dfe-4bcb-8799-2ce4fd2818df",
   "metadata": {
    "tags": []
   },
   "source": [
    "After the above is executed, the following data frames are available\n",
    "\n",
    "movie: contains 27278 unique movies with columns \"movieID, title, genres\"  (moviedID is unique for each row\n",
    "\n",
    "ratings: contain 20,000,262 ratings with columns \"userId movieId rating\" the ratings range from .5-5. Each userID/movieId is unique\n",
    "\n",
    "genome_scores: contain 11,709,767 unique rows with columns 'movieId, tagId, relevance'.  \"relevance\" represents the importance of the tag      to the movie, with higher scores indicating greater relevance.  movies with similar tag relevance scores may be more likely to be        recommended to a user who has rated one of those movies highly\n",
    "genome_tags: 1127 different types of tags placed on a movie columns \"tagId, tag\".  Each row is unique\n",
    "\n",
    "tags: 465,564 rows with columns \"userId, movieId, tag, timestamp\". The combination userId-movieId-tag is unique\n"
   ]
  },
  {
   "cell_type": "raw",
   "id": "e0d6edd9",
   "metadata": {},
   "source": [
    " # get the top N tags with the highest relevance scores\n",
    "num_tags=10\n",
    "tag_scores = data.genome_scores.groupby('tagId').agg({'relevance': 'mean'})\n",
    "top_tags = tag_scores.sort_values('relevance', ascending=False)[:num_tags]"
   ]
  },
  {
   "cell_type": "raw",
   "id": "5c4b36fb",
   "metadata": {},
   "source": [
    "data.movies\n"
   ]
  },
  {
   "cell_type": "code",
   "execution_count": 18,
   "id": "706ae5dd-8204-43d7-b362-6134d9cc931a",
   "metadata": {},
   "outputs": [],
   "source": [
    "\n"
   ]
  },
  {
   "cell_type": "code",
   "execution_count": 2,
   "id": "3c9dd1c3-1d53-4178-94be-7f9f7f50bcf1",
   "metadata": {},
   "outputs": [
    {
     "data": {
      "text/html": [
       "<div>\n",
       "<style scoped>\n",
       "    .dataframe tbody tr th:only-of-type {\n",
       "        vertical-align: middle;\n",
       "    }\n",
       "\n",
       "    .dataframe tbody tr th {\n",
       "        vertical-align: top;\n",
       "    }\n",
       "\n",
       "    .dataframe thead th {\n",
       "        text-align: right;\n",
       "    }\n",
       "</style>\n",
       "<table border=\"1\" class=\"dataframe\">\n",
       "  <thead>\n",
       "    <tr style=\"text-align: right;\">\n",
       "      <th></th>\n",
       "      <th>movieId</th>\n",
       "      <th>title</th>\n",
       "      <th>genres</th>\n",
       "    </tr>\n",
       "  </thead>\n",
       "  <tbody>\n",
       "    <tr>\n",
       "      <th>0</th>\n",
       "      <td>1</td>\n",
       "      <td>Toy Story (1995)</td>\n",
       "      <td>Adventure|Animation|Children|Comedy|Fantasy</td>\n",
       "    </tr>\n",
       "    <tr>\n",
       "      <th>1</th>\n",
       "      <td>2</td>\n",
       "      <td>Jumanji (1995)</td>\n",
       "      <td>Adventure|Children|Fantasy</td>\n",
       "    </tr>\n",
       "    <tr>\n",
       "      <th>2</th>\n",
       "      <td>3</td>\n",
       "      <td>Grumpier Old Men (1995)</td>\n",
       "      <td>Comedy|Romance</td>\n",
       "    </tr>\n",
       "    <tr>\n",
       "      <th>3</th>\n",
       "      <td>4</td>\n",
       "      <td>Waiting to Exhale (1995)</td>\n",
       "      <td>Comedy|Drama|Romance</td>\n",
       "    </tr>\n",
       "    <tr>\n",
       "      <th>4</th>\n",
       "      <td>5</td>\n",
       "      <td>Father of the Bride Part II (1995)</td>\n",
       "      <td>Comedy</td>\n",
       "    </tr>\n",
       "    <tr>\n",
       "      <th>...</th>\n",
       "      <td>...</td>\n",
       "      <td>...</td>\n",
       "      <td>...</td>\n",
       "    </tr>\n",
       "    <tr>\n",
       "      <th>95</th>\n",
       "      <td>97</td>\n",
       "      <td>Hate (Haine, La) (1995)</td>\n",
       "      <td>Crime|Drama</td>\n",
       "    </tr>\n",
       "    <tr>\n",
       "      <th>96</th>\n",
       "      <td>98</td>\n",
       "      <td>Shopping (1994)</td>\n",
       "      <td>Action|Thriller</td>\n",
       "    </tr>\n",
       "    <tr>\n",
       "      <th>97</th>\n",
       "      <td>99</td>\n",
       "      <td>Heidi Fleiss: Hollywood Madam (1995)</td>\n",
       "      <td>Documentary</td>\n",
       "    </tr>\n",
       "    <tr>\n",
       "      <th>98</th>\n",
       "      <td>100</td>\n",
       "      <td>City Hall (1996)</td>\n",
       "      <td>Drama|Thriller</td>\n",
       "    </tr>\n",
       "    <tr>\n",
       "      <th>99</th>\n",
       "      <td>101</td>\n",
       "      <td>Bottle Rocket (1996)</td>\n",
       "      <td>Adventure|Comedy|Crime|Romance</td>\n",
       "    </tr>\n",
       "  </tbody>\n",
       "</table>\n",
       "<p>100 rows × 3 columns</p>\n",
       "</div>"
      ],
      "text/plain": [
       "    movieId                                 title  \\\n",
       "0         1                      Toy Story (1995)   \n",
       "1         2                        Jumanji (1995)   \n",
       "2         3               Grumpier Old Men (1995)   \n",
       "3         4              Waiting to Exhale (1995)   \n",
       "4         5    Father of the Bride Part II (1995)   \n",
       "..      ...                                   ...   \n",
       "95       97               Hate (Haine, La) (1995)   \n",
       "96       98                       Shopping (1994)   \n",
       "97       99  Heidi Fleiss: Hollywood Madam (1995)   \n",
       "98      100                      City Hall (1996)   \n",
       "99      101                  Bottle Rocket (1996)   \n",
       "\n",
       "                                         genres  \n",
       "0   Adventure|Animation|Children|Comedy|Fantasy  \n",
       "1                    Adventure|Children|Fantasy  \n",
       "2                                Comedy|Romance  \n",
       "3                          Comedy|Drama|Romance  \n",
       "4                                        Comedy  \n",
       "..                                          ...  \n",
       "95                                  Crime|Drama  \n",
       "96                              Action|Thriller  \n",
       "97                                  Documentary  \n",
       "98                               Drama|Thriller  \n",
       "99               Adventure|Comedy|Crime|Romance  \n",
       "\n",
       "[100 rows x 3 columns]"
      ]
     },
     "execution_count": 2,
     "metadata": {},
     "output_type": "execute_result"
    }
   ],
   "source": []
  },
  {
   "cell_type": "raw",
   "id": "576bad62",
   "metadata": {},
   "source": [
    "#a movie can have multiple genres.  To put the genres of the 10 movie in the data frame in a list do this\n",
    "genres = data.movies.loc[10, 'genres']\n",
    "print(genres.split(\"|\"))"
   ]
  },
  {
   "cell_type": "markdown",
   "id": "a1faa540-bcc0-42f1-90c1-63e3088e1c48",
   "metadata": {},
   "source": [
    "Now encode data using the bert encoder. initialize the bert_encoder with a dataframe and then the column of the data frame you want to tokenize.\n",
    "The bert_tokenize method is just using the movies data frame.  It concatenates the movie name and genres for the embeddings.\n",
    "None of the other csv's are being used."
   ]
  },
  {
   "cell_type": "raw",
   "id": "54ee441c",
   "metadata": {},
   "source": [
    "data.bert_tokenize()  #optional parameter batch_size default is 32"
   ]
  },
  {
   "cell_type": "raw",
   "id": "2681415e",
   "metadata": {},
   "source": [
    "selected_title = 'Grumpier Old Men (1995)'   #selected title must be of this specific format\n",
    "suggestions = data.get_recommendations(selected_title)"
   ]
  },
  {
   "cell_type": "raw",
   "id": "1d7b2f5d",
   "metadata": {},
   "source": [
    "suggestions"
   ]
  },
  {
   "cell_type": "raw",
   "id": "b3f88b01",
   "metadata": {},
   "source": [
    "print(data.movies[data.movies['title'] == selected_title])\n",
    "print(data.movies[data.movies['title'] == suggestions[0]])\n",
    "print(data.movies[data.movies['title'] == suggestions[1]])\n",
    "print(data.movies[data.movies['title'] == suggestions[2]])\n",
    "print(data.movies[data.movies['title'] == suggestions[3]])\n",
    "print(data.movies[data.movies['title'] == suggestions[4]])"
   ]
  },
  {
   "cell_type": "code",
   "execution_count": null,
   "id": "2c7a9287",
   "metadata": {},
   "outputs": [],
   "source": [
    "import random\n",
    "random.seed(42)\n",
    "movie_list=random.sample(set(data1.movies['title']), 350)\n",
    "#movie_list = data.movies['title'].sample(n=350).tolist()\n",
    "\n",
    "prec_list=[]\n",
    "prec_avg=[]\n",
    "epo=[]\n",
    "epoch=0\n",
    "for m in movie_list:\n",
    "    print(m)\n",
    "    epoch+=1\n",
    "    suggestions = data1.get_recommendations_by_title(m, num_recommendations=5)\n",
    "    \n",
    "    precision=data1.get_evaluation_title(m, suggestions)\n",
    "    if precision!=0:\n",
    "        prec_list.append(precision)\n",
    "    if len(prec_list)!=0:\n",
    "        precision_avg=sum(prec_list)/len(prec_list)\n",
    "        prec_avg.append(precision_avg)\n",
    "        epo.append(epoch)\n",
    "print(prec_avg[-1])\n",
    "import matplotlib.pyplot as plt\n",
    "plt.plot(epo, prec_avg)\n",
    "plt.xlabel('Epoch')\n",
    "plt.ylabel('Avg_Precision')\n",
    "plt.show()"
   ]
  },
  {
   "cell_type": "code",
   "execution_count": null,
   "id": "4bfac745",
   "metadata": {},
   "outputs": [],
   "source": [
    "import random\n",
    "random.seed(42)\n",
    "movie_list=random.sample(set(data2.movies['title']), 350)\n",
    "#movie_list = data.movies['title'].sample(n=350).tolist()\n",
    "\n",
    "prec_list=[]\n",
    "prec_avg=[]\n",
    "epo=[]\n",
    "epoch=0\n",
    "for m in movie_list:\n",
    "    print(m)\n",
    "    epoch+=1\n",
    "    suggestions = data2.get_recommendations_by_title(m, num_recommendations=5)\n",
    "    \n",
    "    precision=data2.get_evaluation_title(m, suggestions)\n",
    "    if precision!=0:\n",
    "        prec_list.append(precision)\n",
    "    if len(prec_list)!=0:\n",
    "        precision_avg=sum(prec_list)/len(prec_list)\n",
    "        prec_avg.append(precision_avg)\n",
    "        epo.append(epoch)\n",
    "print(prec_avg[-1])\n",
    "import matplotlib.pyplot as plt\n",
    "plt.plot(epo, prec_avg)\n",
    "plt.xlabel('Epoch')\n",
    "plt.ylabel('Avg_Precision')\n",
    "plt.show()"
   ]
  },
  {
   "cell_type": "code",
   "execution_count": null,
   "id": "0cc5a2b9",
   "metadata": {},
   "outputs": [],
   "source": [
    "keyword_list=[\"Good comedy movies with Saturday Night Live cast members\", \"Horror movies that are really scary\", \n",
    "              \"Heartwarming drama\", \"famous opening theme\", \"dialogue driven storyline\", \"criminal mastermind\",\n",
    "              \"dream sequence\", \"classic movies from the 90s\",  \"Steven Spielberg movies\", \"romantic comedies\", \"zombie movies\",\n",
    "              \"French movies\", \"movie with a car chase\", \"movie set in the future\", \"movie with a box office success\", \n",
    "              \"movie that was critically acclaimed\", \"movie that was a critical and commercial success\", \"movie that you can watch over and over again\",\n",
    "              \"movie with a happy ending\", \"movie with a lot of special effects\", \"good versus evil movie\", \"fictional biography\", \"movie based on short story\",\n",
    "              \"corruption\", \"movie with flashback\", \"alternate history\", \"black comedy\", \"movies set in New York\", \"Oscar-winning movies\", \n",
    "              \"movies with Hans Zimmer soundtracks\", \"Marvel movies\",  \"feel-good movies\", \"Meryl Streep movies\", \"Star Wars movies\", \"musical movies\",\n",
    "              \"movies set in space\", \"Cannes Film Festival winners\", \"movies with Tom Cruise\", \"murder bloody\", \"Animated movies\", \"Action-packed movies\",\n",
    "              \"Documentaries\", \"Best movies of all time\", \"Cult favorites\", \"Must-see movies\", \"Mystery movies\", \"Social issue movies\", \"Time travel movies\",\n",
    "              \"Dystopian movies\", \"Tearjerker movies\", \"Mystery movies\", \"Adrenaline-fueled movies\", \"Thought-provoking movies\", \"Visually stunning movies\",\n",
    "              \"Holiday movies\", \"Sports movies\", \"Spy movies\", \"Mind-bending movies\"]\n",
    "prec_list=[]\n",
    "prec_avg=[]\n",
    "epo=[]\n",
    "epoch=0\n",
    "for m in keyword_list:\n",
    "    print(m)\n",
    "    epoch+=1\n",
    "    suggestions = data1.get_recommendations_by_keyword_bert_tfidf(m,num_recommendations=5,bert_weight=0.5,tfidf_weight=0.5,w_ratings=True)\n",
    "    \n",
    "    precision=data1.get_evaluation_keyword(suggestions)\n",
    "    #if precision!=0:\n",
    "    prec_list.append(precision)\n",
    "    precision_avg=sum(prec_list)/len(prec_list)\n",
    "    prec_avg.append(precision_avg)\n",
    "    epo.append(epoch)\n",
    "print(prec_avg[-1])\n",
    "import matplotlib.pyplot as plt\n",
    "plt.plot(epo, prec_avg)\n",
    "plt.xlabel('Epoch')\n",
    "plt.ylabel('Avg_Precision')\n",
    "plt.show()"
   ]
  },
  {
   "cell_type": "code",
   "execution_count": null,
   "id": "7ee0c7d7",
   "metadata": {},
   "outputs": [],
   "source": [
    "keyword_list=[\"Good comedy movies with Saturday Night Live cast members\", \"Horror movies that are really scary\", \n",
    "              \"Heartwarming drama\", \"famous opening theme\", \"dialogue driven storyline\", \"criminal mastermind\",\n",
    "              \"dream sequence\", \"classic movies from the 90s\",  \"Steven Spielberg movies\", \"romantic comedies\", \"zombie movies\",\n",
    "              \"French movies\", \"movie with a car chase\", \"movie set in the future\", \"movie with a box office success\", \n",
    "              \"movie that was critically acclaimed\", \"movie that was a critical and commercial success\", \"movie that you can watch over and over again\",\n",
    "              \"movie with a happy ending\", \"movie with a lot of special effects\", \"good versus evil movie\", \"fictional biography\", \"movie based on short story\",\n",
    "              \"corruption\", \"movie with flashback\", \"alternate history\", \"black comedy\", \"movies set in New York\", \"Oscar-winning movies\", \n",
    "              \"movies with Hans Zimmer soundtracks\", \"Marvel movies\",  \"feel-good movies\", \"Meryl Streep movies\", \"Star Wars movies\", \"musical movies\",\n",
    "              \"movies set in space\", \"Cannes Film Festival winners\", \"movies with Tom Cruise\", \"murder bloody\", \"Animated movies\", \"Action-packed movies\",\n",
    "              \"Documentaries\", \"Best movies of all time\", \"Cult favorites\", \"Must-see movies\", \"Mystery movies\", \"Social issue movies\", \"Time travel movies\",\n",
    "              \"Dystopian movies\", \"Tearjerker movies\", \"Mystery movies\", \"Adrenaline-fueled movies\", \"Thought-provoking movies\", \"Visually stunning movies\",\n",
    "              \"Holiday movies\", \"Sports movies\", \"Spy movies\", \"Mind-bending movies\"]\n",
    "prec_list=[]\n",
    "prec_avg=[]\n",
    "epo=[]\n",
    "epoch=0\n",
    "for m in keyword_list:\n",
    "    print(m)\n",
    "    epoch+=1\n",
    "    suggestions = data2.get_recommendations_by_keyword_bert_tfidf(m,num_recommendations=5,bert_weight=0.5,tfidf_weight=0.5,w_ratings=True)\n",
    "    \n",
    "    precision=data2.get_evaluation_keyword(suggestions)\n",
    "    #if precision!=0:\n",
    "    prec_list.append(precision)\n",
    "    precision_avg=sum(prec_list)/len(prec_list)\n",
    "    prec_avg.append(precision_avg)\n",
    "    epo.append(epoch)\n",
    "print(prec_avg[-1])\n",
    "import matplotlib.pyplot as plt\n",
    "plt.plot(epo, prec_avg)\n",
    "plt.xlabel('Epoch')\n",
    "plt.ylabel('Avg_Precision')\n",
    "plt.show()"
   ]
  }
 ],
 "metadata": {
  "kernelspec": {
   "display_name": "Python 3 (ipykernel)",
   "language": "python",
   "name": "python3"
  },
  "language_info": {
   "codemirror_mode": {
    "name": "ipython",
    "version": 3
   },
   "file_extension": ".py",
   "mimetype": "text/x-python",
   "name": "python",
   "nbconvert_exporter": "python",
   "pygments_lexer": "ipython3",
   "version": "3.7.15"
  }
 },
 "nbformat": 4,
 "nbformat_minor": 5
}
